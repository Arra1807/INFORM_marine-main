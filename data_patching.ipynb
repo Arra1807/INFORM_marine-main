{
 "cells": [
  {
   "cell_type": "code",
   "execution_count": 1,
   "id": "4dc01af9",
   "metadata": {},
   "outputs": [
    {
     "name": "stdout",
     "output_type": "stream",
     "text": [
      "Selected 10 echograms from year 2014\n",
      "Number of echograms: 10\n"
     ]
    }
   ],
   "source": [
    "import numpy as np\n",
    "import sys \n",
    "sys.path.append('C:/Users/shado/Documents/Master Thesis/INFORM_marine-main_new/INFORM_marine-main/data/echosounder_data')  # To import from parent directory\n",
    "from load_data.get_echograms_2 import get_echograms\n",
    "years = 2014  \n",
    "minimum_shape = 224\n",
    "tuple_frequencies = (18, 38, 70, 120, 200, 333)\n",
    "echograms = get_echograms(years=years, tuple_frequencies=tuple_frequencies, minimum_shape=minimum_shape) \n",
    "print(f\"Number of echograms: {len(echograms)}\")\n"
   ]
  },
  {
   "cell_type": "code",
   "execution_count": 2,
   "id": "f7935616",
   "metadata": {},
   "outputs": [
    {
     "name": "stdout",
     "output_type": "stream",
     "text": [
      "Train Echogram: 8\n",
      "Test Echogram: 2\n"
     ]
    }
   ],
   "source": [
    "import os\n",
    "import random\n",
    "# Randomly split echograms into train/test\n",
    "random.seed(42)  # Set a seed for reproducibility\n",
    "Train_eg = []\n",
    "test_eg = []\n",
    "echogram = random.shuffle(echograms)  # Shuffle echograms randomly\n",
    "for i,echogram in enumerate(echograms):\n",
    "  if i < 0.8*len(echograms):\n",
    "    Train_eg.append(echogram)\n",
    "  else:\n",
    "    test_eg.append(echogram)\n",
    "\n",
    "#Save the echograms to files\n",
    "train_dir = '/content/Inform_project_new/train'\n",
    "test_dir = '/content/Inform_project_new/test'\n",
    "os.makedirs(train_dir, exist_ok=True)\n",
    "os.makedirs(test_dir, exist_ok=True)\n",
    "\n",
    "for i, echogram in enumerate(Train_eg):\n",
    " os.path.join(train_dir, f'echogram_{i}.npy')\n",
    "for i, echogram in enumerate(test_eg):\n",
    "  os.path.join(test_dir, f'echogram_{i}.npy')\n",
    "\n",
    "# Print the number of echograms in each set\n",
    "print('Train Echogram:', len(Train_eg))\n",
    "print('Test Echogram:', len(test_eg))"
   ]
  },
  {
   "cell_type": "code",
   "execution_count": 3,
   "id": "f6ecaf57",
   "metadata": {},
   "outputs": [
    {
     "name": "stderr",
     "output_type": "stream",
     "text": [
      "\u001b[34m\u001b[1mwandb\u001b[0m: Currently logged in as: \u001b[33marangan18\u001b[0m (\u001b[33marangan18-university-of-oslo\u001b[0m) to \u001b[32mhttps://api.wandb.ai\u001b[0m. Use \u001b[1m`wandb login --relogin`\u001b[0m to force relogin\n"
     ]
    },
    {
     "data": {
      "text/html": [
       "creating run (0.5s)"
      ],
      "text/plain": [
       "<IPython.core.display.HTML object>"
      ]
     },
     "metadata": {},
     "output_type": "display_data"
    },
    {
     "data": {
      "text/html": [
       "Tracking run with wandb version 0.21.1"
      ],
      "text/plain": [
       "<IPython.core.display.HTML object>"
      ]
     },
     "metadata": {},
     "output_type": "display_data"
    },
    {
     "data": {
      "text/html": [
       "Run data is saved locally in <code>c:\\Users\\shado\\Documents\\Master Thesis\\INFORM_marine-main_new\\INFORM_marine-main\\wandb\\run-20250902_124442-7d2a1vno</code>"
      ],
      "text/plain": [
       "<IPython.core.display.HTML object>"
      ]
     },
     "metadata": {},
     "output_type": "display_data"
    },
    {
     "data": {
      "text/html": [
       "Syncing run <strong><a href='https://wandb.ai/arangan18-university-of-oslo/Adapter/runs/7d2a1vno' target=\"_blank\">dry-resonance-561</a></strong> to <a href='https://wandb.ai/arangan18-university-of-oslo/Adapter' target=\"_blank\">Weights & Biases</a> (<a href='https://wandb.me/developer-guide' target=\"_blank\">docs</a>)<br>"
      ],
      "text/plain": [
       "<IPython.core.display.HTML object>"
      ]
     },
     "metadata": {},
     "output_type": "display_data"
    },
    {
     "data": {
      "text/html": [
       " View project at <a href='https://wandb.ai/arangan18-university-of-oslo/Adapter' target=\"_blank\">https://wandb.ai/arangan18-university-of-oslo/Adapter</a>"
      ],
      "text/plain": [
       "<IPython.core.display.HTML object>"
      ]
     },
     "metadata": {},
     "output_type": "display_data"
    },
    {
     "data": {
      "text/html": [
       " View run at <a href='https://wandb.ai/arangan18-university-of-oslo/Adapter/runs/7d2a1vno' target=\"_blank\">https://wandb.ai/arangan18-university-of-oslo/Adapter/runs/7d2a1vno</a>"
      ],
      "text/plain": [
       "<IPython.core.display.HTML object>"
      ]
     },
     "metadata": {},
     "output_type": "display_data"
    },
    {
     "name": "stdout",
     "output_type": "stream",
     "text": [
      "Number of patches per echogram for training: [21, 16, 10, 37, 7, 7, 9, 8]\n",
      "Number of patches per echogram for testing: [7, 8]\n",
      "Total number of training patches: 115\n",
      "Total number of testing patches: 15\n"
     ]
    }
   ],
   "source": [
    "from preprocessing.resize_and_crop import SplitResizeEchogram, generate_patch_batches\n",
    "from preprocessing.normalization import db, clip, standardize_min_max\n",
    "import sys\n",
    "sys.path.append('C:/Users/shado/Documents/Master Thesis/INFORM_marine-main_new/INFORM_marine-main/adaptation_method')\n",
    "from model_config import Configuration\n",
    "\n",
    "#For logging purposes\n",
    "run= Configuration()\n",
    "\n",
    "data_transform = [db, clip, standardize_min_max]\n",
    "split_patch_size = 224\n",
    "output_patch_size = 224\n",
    "\n",
    "\n",
    "#---Train set---\n",
    "train_generators, num_patches_per_train_echogram = generate_patch_batches(Train_eg, split_patch_size,\n",
    "                                                                          output_patch_size, data_transforms= data_transform,\n",
    "                                                                          batch_size='full', verbose= False)\n",
    "print('Number of patches per echogram for training:', num_patches_per_train_echogram )\n",
    "\n",
    "#---Test set---\n",
    "test_generators, num_patches_per_test_echogram = generate_patch_batches(test_eg, split_patch_size, output_patch_size,\n",
    "                                                                        data_transforms= data_transform,\n",
    "                                                                        batch_size='full', verbose= False)\n",
    "print('Number of patches per echogram for testing:', num_patches_per_test_echogram )\n",
    "\n",
    "print(f\"Total number of training patches: {sum(num_patches_per_train_echogram)}\")\n",
    "print(f\"Total number of testing patches: {sum(num_patches_per_test_echogram)}\")\n",
    "\n"
   ]
  },
  {
   "cell_type": "markdown",
   "id": "5187fcee",
   "metadata": {},
   "source": [
    "Grouping Generators by Patch Limit "
   ]
  },
  {
   "cell_type": "code",
   "execution_count": 4,
   "id": "68e6401c",
   "metadata": {},
   "outputs": [
    {
     "name": "stdout",
     "output_type": "stream",
     "text": [
      "-------Dimensions for Training set-------------\n",
      "data shape: torch.Size([60, 6, 224, 224])\n",
      "data shape: torch.Size([47, 6, 224, 224])\n",
      "data shape: torch.Size([8, 6, 224, 224])\n",
      "-------Dimensions for Test set-------------\n",
      "data shape: torch.Size([15, 6, 224, 224])\n"
     ]
    }
   ],
   "source": [
    "from dataloader import BatchGeneratorDataset, GroupedGenerator, group_generators_by_patch_limit\n",
    "from torch.utils.data import DataLoader\n",
    "\n",
    "#---Training set---\n",
    "print('-------Dimensions for Training set-------------')\n",
    "grouped_generator_fns_train, grouped_patch_count_train = group_generators_by_patch_limit(train_generators, num_patches_per_train_echogram, 64)\n",
    "\n",
    "train_dataset = BatchGeneratorDataset(grouped_generator_fns_train)\n",
    "train_loader = DataLoader(train_dataset, batch_size = None, shuffle= True)\n",
    "\n",
    "for labels, data, mask in train_loader:\n",
    "    print('data shape:', data.shape )    \n",
    "    \n",
    "#---Test Set---\n",
    "print('-------Dimensions for Test set-------------')\n",
    "grouped_generator_fns_test, grouped_patch_count_test = group_generators_by_patch_limit(test_generators, num_patches_per_test_echogram, 64)\n",
    "\n",
    "test_dataset = BatchGeneratorDataset(grouped_generator_fns_test)\n",
    "test_loader = DataLoader(test_dataset, batch_size = None, shuffle= True)\n",
    "\n",
    "for labels, data, mask in test_loader:\n",
    "    print('data shape:', data.shape )\n",
    "\n"
   ]
  },
  {
   "cell_type": "code",
   "execution_count": null,
   "id": "8c7ff4ed",
   "metadata": {},
   "outputs": [
    {
     "data": {
      "text/plain": [
       "\"\\n#from adaptation_method.train_autoencoder import train_val_encoder\\nfrom adaptation_method.train_autoencoder import train_val_encoder, plot_loss\\nfrom adaptation_method.Autoencoder import ResNetAutoEncoder\\nimport torch.optim as optim\\nimport torch.nn as nn\\n\\n\\n#Instantiating model\\nmodel = ResNetAutoEncoder()\\n\\n# Defining Loss function and optimizer\\nLoss_func = nn.MSELoss()\\n\\noptimizer = optim.Adam(filter(lambda p: p.requires_grad, model.parameters()), \\n                       lr= run.config['learning_rate'], \\n                       weight_decay= run.config['Weight_decay']\\n)\\n\\nencoded, avg_loss_train, val_encoded, avg_loss_val, epoch_stop = train_val_encoder(model, optimizer, Loss_func, run.config['epochs'], train_loader, test_loader, run)\\n\\nplot_loss(run.config['epochs'], avg_loss_train, avg_loss_val, epoch_stop)\\n\""
      ]
     },
     "execution_count": 5,
     "metadata": {},
     "output_type": "execute_result"
    }
   ],
   "source": [
    "\"\"\"\n",
    "#from adaptation_method.train_autoencoder import train_val_encoder\n",
    "from adaptation_method.train_autoencoder import train_val_encoder, plot_loss\n",
    "from adaptation_method.Autoencoder import ResNetAutoEncoder\n",
    "import torch.optim as optim\n",
    "import torch.nn as nn\n",
    "\n",
    "\n",
    "#Instantiating model\n",
    "model = ResNetAutoEncoder()\n",
    "\n",
    "# Defining Loss function and optimizer\n",
    "Loss_func = nn.MSELoss()\n",
    "\n",
    "optimizer = optim.Adam(filter(lambda p: p.requires_grad, model.parameters()), \n",
    "                       lr= run.config['learning_rate'], \n",
    "                       weight_decay= run.config['Weight_decay']\n",
    ")\n",
    "\n",
    "encoded, avg_loss_train, val_encoded, avg_loss_val, epoch_stop = train_val_encoder(model, optimizer, Loss_func, run.config['epochs'], train_loader, test_loader, run)\n",
    "\n",
    "plot_loss(run.config['epochs'], avg_loss_train, avg_loss_val, epoch_stop)\n",
    "\"\"\""
   ]
  },
  {
   "cell_type": "code",
   "execution_count": 5,
   "id": "ae650b85",
   "metadata": {},
   "outputs": [
    {
     "name": "stdout",
     "output_type": "stream",
     "text": [
      "lr 0.001\n",
      "weight decay 0.0001\n",
      "epochs 20\n"
     ]
    },
    {
     "name": "stderr",
     "output_type": "stream",
     "text": [
      "Epoch 1/20: 100%|██████████| 3/3 [00:31<00:00, 10.67s/it]\n"
     ]
    },
    {
     "name": "stdout",
     "output_type": "stream",
     "text": [
      "Train encodings: min=0.0001, max=0.9998\n",
      "Val latents: min=0.0031, max=0.9938\n",
      " Train Loss = 0.0932 ,Validation Loss = 0.0913\n"
     ]
    },
    {
     "name": "stderr",
     "output_type": "stream",
     "text": [
      "Epoch 2/20: 100%|██████████| 3/3 [00:30<00:00, 10.31s/it]\n"
     ]
    },
    {
     "name": "stdout",
     "output_type": "stream",
     "text": [
      "Train encodings: min=0.0056, max=0.9889\n",
      "Val latents: min=0.0076, max=0.9848\n",
      " Train Loss = 0.0568 ,Validation Loss = 0.0569\n"
     ]
    },
    {
     "name": "stderr",
     "output_type": "stream",
     "text": [
      "Epoch 3/20: 100%|██████████| 3/3 [00:26<00:00,  8.89s/it]\n"
     ]
    },
    {
     "name": "stdout",
     "output_type": "stream",
     "text": [
      "Train encodings: min=0.0079, max=0.9843\n",
      "Val latents: min=0.0099, max=0.9802\n",
      " Train Loss = 0.0410 ,Validation Loss = 0.0445\n"
     ]
    },
    {
     "name": "stderr",
     "output_type": "stream",
     "text": [
      "Epoch 4/20: 100%|██████████| 3/3 [00:31<00:00, 10.45s/it]\n"
     ]
    },
    {
     "name": "stdout",
     "output_type": "stream",
     "text": [
      "Train encodings: min=0.0136, max=0.9729\n",
      "Val latents: min=0.0177, max=0.9628\n",
      " Train Loss = 0.0323 ,Validation Loss = 0.0378\n"
     ]
    },
    {
     "name": "stderr",
     "output_type": "stream",
     "text": [
      "Epoch 5/20: 100%|██████████| 3/3 [00:33<00:00, 11.22s/it]\n"
     ]
    },
    {
     "name": "stdout",
     "output_type": "stream",
     "text": [
      "Train encodings: min=0.0212, max=0.9576\n",
      "Val latents: min=0.0238, max=0.9452\n",
      " Train Loss = 0.0243 ,Validation Loss = 0.0309\n"
     ]
    },
    {
     "name": "stderr",
     "output_type": "stream",
     "text": [
      "Epoch 6/20: 100%|██████████| 3/3 [00:42<00:00, 14.15s/it]\n"
     ]
    },
    {
     "name": "stdout",
     "output_type": "stream",
     "text": [
      "Train encodings: min=0.0256, max=0.9489\n",
      "Val latents: min=0.0283, max=0.9262\n",
      " Train Loss = 0.0242 ,Validation Loss = 0.0279\n"
     ]
    },
    {
     "name": "stderr",
     "output_type": "stream",
     "text": [
      "Epoch 7/20: 100%|██████████| 3/3 [00:32<00:00, 10.68s/it]\n"
     ]
    },
    {
     "name": "stdout",
     "output_type": "stream",
     "text": [
      "Train encodings: min=0.0293, max=0.9397\n",
      "Val latents: min=0.0272, max=0.9256\n",
      " Train Loss = 0.0225 ,Validation Loss = 0.0274\n"
     ]
    },
    {
     "name": "stderr",
     "output_type": "stream",
     "text": [
      "Epoch 8/20: 100%|██████████| 3/3 [00:32<00:00, 10.79s/it]\n"
     ]
    },
    {
     "name": "stdout",
     "output_type": "stream",
     "text": [
      "Train encodings: min=0.0264, max=0.9462\n",
      "Val latents: min=0.0221, max=0.9444\n",
      " Train Loss = 0.0224 ,Validation Loss = 0.0211\n"
     ]
    },
    {
     "name": "stderr",
     "output_type": "stream",
     "text": [
      "Epoch 9/20: 100%|██████████| 3/3 [00:30<00:00, 10.01s/it]\n"
     ]
    },
    {
     "name": "stdout",
     "output_type": "stream",
     "text": [
      "Train encodings: min=0.0197, max=0.9605\n",
      "Val latents: min=0.0197, max=0.9562\n",
      " Train Loss = 0.0238 ,Validation Loss = 0.0260\n"
     ]
    },
    {
     "name": "stderr",
     "output_type": "stream",
     "text": [
      "Epoch 10/20: 100%|██████████| 3/3 [00:31<00:00, 10.54s/it]\n"
     ]
    },
    {
     "name": "stdout",
     "output_type": "stream",
     "text": [
      "Train encodings: min=0.0188, max=0.9623\n",
      "Val latents: min=0.0170, max=0.9658\n",
      " Train Loss = 0.0222 ,Validation Loss = 0.0251\n"
     ]
    },
    {
     "name": "stderr",
     "output_type": "stream",
     "text": [
      "Epoch 11/20: 100%|██████████| 3/3 [00:32<00:00, 10.88s/it]\n"
     ]
    },
    {
     "name": "stdout",
     "output_type": "stream",
     "text": [
      "Train encodings: min=0.0159, max=0.9681\n",
      "Val latents: min=0.0124, max=0.9752\n",
      " Train Loss = 0.0203 ,Validation Loss = 0.0246\n"
     ]
    },
    {
     "name": "stderr",
     "output_type": "stream",
     "text": [
      "Epoch 12/20: 100%|██████████| 3/3 [01:00<00:00, 20.07s/it]\n"
     ]
    },
    {
     "name": "stdout",
     "output_type": "stream",
     "text": [
      "Train encodings: min=0.0082, max=0.9837\n",
      "Val latents: min=0.0078, max=0.9844\n",
      " Train Loss = 0.0197 ,Validation Loss = 0.0236\n"
     ]
    },
    {
     "name": "stderr",
     "output_type": "stream",
     "text": [
      "Epoch 13/20: 100%|██████████| 3/3 [00:42<00:00, 14.33s/it]\n"
     ]
    },
    {
     "name": "stdout",
     "output_type": "stream",
     "text": [
      "Train encodings: min=0.0049, max=0.9902\n",
      "Val latents: min=0.0046, max=0.9908\n",
      " Train Loss = 0.0201 ,Validation Loss = 0.0186\n"
     ]
    },
    {
     "name": "stderr",
     "output_type": "stream",
     "text": [
      "Epoch 14/20: 100%|██████████| 3/3 [00:50<00:00, 16.83s/it]\n"
     ]
    },
    {
     "name": "stdout",
     "output_type": "stream",
     "text": [
      "Train encodings: min=0.0033, max=0.9933\n",
      "Val latents: min=0.0025, max=0.9949\n",
      " Train Loss = 0.0175 ,Validation Loss = 0.0179\n"
     ]
    },
    {
     "name": "stderr",
     "output_type": "stream",
     "text": [
      "Epoch 15/20: 100%|██████████| 3/3 [00:53<00:00, 17.93s/it]\n"
     ]
    },
    {
     "name": "stdout",
     "output_type": "stream",
     "text": [
      "Train encodings: min=0.0022, max=0.9956\n",
      "Val latents: min=0.0015, max=0.9971\n",
      " Train Loss = 0.0182 ,Validation Loss = 0.0247\n"
     ]
    },
    {
     "name": "stderr",
     "output_type": "stream",
     "text": [
      "Epoch 16/20: 100%|██████████| 3/3 [00:29<00:00,  9.97s/it]\n"
     ]
    },
    {
     "name": "stdout",
     "output_type": "stream",
     "text": [
      "Train encodings: min=0.0011, max=0.9979\n",
      "Val latents: min=0.0009, max=0.9982\n",
      " Train Loss = 0.0194 ,Validation Loss = 0.0239\n"
     ]
    },
    {
     "name": "stderr",
     "output_type": "stream",
     "text": [
      "Epoch 17/20: 100%|██████████| 3/3 [00:30<00:00, 10.12s/it]\n"
     ]
    },
    {
     "name": "stdout",
     "output_type": "stream",
     "text": [
      "Train encodings: min=0.0006, max=0.9988\n",
      "Val latents: min=0.0006, max=0.9988\n",
      " Train Loss = 0.0182 ,Validation Loss = 0.0183\n"
     ]
    },
    {
     "name": "stderr",
     "output_type": "stream",
     "text": [
      "Epoch 18/20: 100%|██████████| 3/3 [00:37<00:00, 12.44s/it]\n"
     ]
    },
    {
     "name": "stdout",
     "output_type": "stream",
     "text": [
      "Train encodings: min=0.0005, max=0.9991\n",
      "Val latents: min=0.0005, max=0.9990\n",
      " Train Loss = 0.0142 ,Validation Loss = 0.0200\n"
     ]
    },
    {
     "name": "stderr",
     "output_type": "stream",
     "text": [
      "Epoch 19/20: 100%|██████████| 3/3 [00:40<00:00, 13.40s/it]\n"
     ]
    },
    {
     "name": "stdout",
     "output_type": "stream",
     "text": [
      "Train encodings: min=0.0004, max=0.9991\n",
      "Val latents: min=0.0005, max=0.9991\n",
      " Train Loss = 0.0146 ,Validation Loss = 0.0151\n"
     ]
    },
    {
     "name": "stderr",
     "output_type": "stream",
     "text": [
      "Epoch 20/20: 100%|██████████| 3/3 [00:55<00:00, 18.51s/it]\n"
     ]
    },
    {
     "name": "stdout",
     "output_type": "stream",
     "text": [
      "Train encodings: min=0.0004, max=0.9992\n",
      "Val latents: min=0.0004, max=0.9991\n",
      " Train Loss = 0.0140 ,Validation Loss = 0.0144\n"
     ]
    },
    {
     "data": {
      "text/html": [],
      "text/plain": [
       "<IPython.core.display.HTML object>"
      ]
     },
     "metadata": {},
     "output_type": "display_data"
    },
    {
     "data": {
      "text/html": [
       "<br>    <style><br>        .wandb-row {<br>            display: flex;<br>            flex-direction: row;<br>            flex-wrap: wrap;<br>            justify-content: flex-start;<br>            width: 100%;<br>        }<br>        .wandb-col {<br>            display: flex;<br>            flex-direction: column;<br>            flex-basis: 100%;<br>            flex: 1;<br>            padding: 10px;<br>        }<br>    </style><br><div class=\"wandb-row\"><div class=\"wandb-col\"><h3>Run history:</h3><br/><table class=\"wandb\"><tr><td>epoch</td><td>▁▁▂▂▂▃▃▄▄▄▅▅▅▆▆▇▇▇██</td></tr><tr><td>train_loss</td><td>█▅▃▃▂▂▂▂▂▂▂▂▂▁▁▁▁▁▁▁</td></tr><tr><td>val_loss</td><td>█▅▄▃▂▂▂▂▂▂▂▂▁▁▂▂▁▂▁▁</td></tr></table><br/></div><div class=\"wandb-col\"><h3>Run summary:</h3><br/><table class=\"wandb\"><tr><td>epoch</td><td>20</td></tr><tr><td>train_loss</td><td>0.01401</td></tr><tr><td>val_loss</td><td>0.01445</td></tr></table><br/></div></div>"
      ],
      "text/plain": [
       "<IPython.core.display.HTML object>"
      ]
     },
     "metadata": {},
     "output_type": "display_data"
    },
    {
     "data": {
      "text/html": [
       " View run <strong style=\"color:#cdcd00\">dry-resonance-561</strong> at: <a href='https://wandb.ai/arangan18-university-of-oslo/Adapter/runs/7d2a1vno' target=\"_blank\">https://wandb.ai/arangan18-university-of-oslo/Adapter/runs/7d2a1vno</a><br> View project at: <a href='https://wandb.ai/arangan18-university-of-oslo/Adapter' target=\"_blank\">https://wandb.ai/arangan18-university-of-oslo/Adapter</a><br>Synced 5 W&B file(s), 0 media file(s), 0 artifact file(s) and 0 other file(s)"
      ],
      "text/plain": [
       "<IPython.core.display.HTML object>"
      ]
     },
     "metadata": {},
     "output_type": "display_data"
    },
    {
     "data": {
      "text/html": [
       "Find logs at: <code>.\\wandb\\run-20250902_124442-7d2a1vno\\logs</code>"
      ],
      "text/plain": [
       "<IPython.core.display.HTML object>"
      ]
     },
     "metadata": {},
     "output_type": "display_data"
    },
    {
     "name": "stdout",
     "output_type": "stream",
     "text": [
      "Total training time: 856.5 seconds\n",
      "Average time per epoch: 42.8 seconds\n"
     ]
    },
    {
     "data": {
      "image/png": "[encoded data removed]",
      "text/plain": [
       "<Figure size 1200x800 with 1 Axes>"
      ]
     },
     "metadata": {},
     "output_type": "display_data"
    }
   ],
   "source": [
    "from train_autoencoder import train_val_encoder, plot_loss\n",
    "from adaptation_method.Autoencoder import Autoencoder\n",
    "import torch\n",
    "import torch.nn as nn\n",
    "import torch.optim as optim\n",
    "import time\n",
    "\n",
    "\n",
    "#Instantiating model\n",
    "model = Autoencoder()\n",
    "\n",
    "# Defining Loss function and optimizer\n",
    "Loss_func = nn.MSELoss()\n",
    "optimizer = optim.Adam(model.parameters(), lr = run.config['learning_rate'], weight_decay = run.config['Weight_decay'])\n",
    "device = torch.device(\"cuda\" if torch.cuda.is_available() else \"cpu\")\n",
    "\n",
    "print('lr', run.config['learning_rate'])\n",
    "print('weight decay', run.config['Weight_decay'])\n",
    "print('epochs', run.config['epochs'])\n",
    "\n",
    "\n",
    "total_start= time.perf_counter()\n",
    "train_latent, val_latent, avg_loss_train,  avg_loss_val, stop_epoch = train_val_encoder(model, optimizer, Loss_func, run.config['epochs'], train_loader, test_loader, run, device = device)\n",
    "\n",
    "#Timing the whole training process\n",
    "if torch.cuda.is_available() and device.type == 'cuda':\n",
    "    torch.cuda.synchronize()\n",
    "total_time = time.perf_counter() - total_start\n",
    "print(f\"Total training time: {total_time:.1f} seconds\")\n",
    "print(f\"Average time per epoch: {total_time/run.config['epochs']:.1f} seconds\")\n",
    "\n",
    "plot_loss(run.config['epochs'], avg_loss_train, avg_loss_val, stop_epoch)\n"
   ]
  },
  {
   "cell_type": "code",
   "execution_count": null,
   "id": "af6c67a1",
   "metadata": {},
   "outputs": [
    {
     "name": "stdout",
     "output_type": "stream",
     "text": [
      "Shape of latent representation for training set: torch.Size([75, 3, 224, 224])\n",
      "Shape of latent representation for validation set: torch.Size([58, 3, 224, 224])\n"
     ]
    }
   ],
   "source": [
    "print('Shape of latent representation for training set:', train_latent.shape)\n",
    "print('Shape of latent representation for validation set:', val_latent.shape)\n",
    "\n",
    "train_latent = train_latent.permute(1,0,2,3).contiguous()  # (num_patches, num_freq, height, width) -> (num_freq, num_patches, height, width)\n"
   ]
  },
  {
   "cell_type": "code",
   "execution_count": null,
   "id": "b0f2ab4e",
   "metadata": {},
   "outputs": [],
   "source": [
    "from pretrained_models.get_embeddings import get_embeddings\n",
    "from pretrained_models.load_vit_model import load_vit_model\n",
    "from pretrained_models.select_model import select_model\n"
   ]
  }
 ],
 "metadata": {
  "kernelspec": {
   "display_name": "base",
   "language": "python",
   "name": "python3"
  },
  "language_info": {
   "codemirror_mode": {
    "name": "ipython",
    "version": 3
   },
   "file_extension": ".py",
   "mimetype": "text/x-python",
   "name": "python",
   "nbconvert_exporter": "python",
   "pygments_lexer": "ipython3",
   "version": "3.11.4"
  }
 },
 "nbformat": 4,
 "nbformat_minor": 5
}
